{
 "cells": [
  {
   "cell_type": "code",
   "execution_count": null,
   "id": "96cac819",
   "metadata": {},
   "outputs": [],
   "source": [
    "#factorial of anumber\n",
    "def fac(n):\n",
    "    if n ==1 or n == 0:\n",
    "        return 1\n",
    "    else:\n",
    "        return  n*fac(n-1)\n",
    "print(fac(3))"
   ]
  },
  {
   "cell_type": "code",
   "execution_count": null,
   "id": "1576a0a3",
   "metadata": {},
   "outputs": [],
   "source": [
    "#fibonacci series\n",
    "def fib(n):\n",
    "    first_num = 0\n",
    "    second_num = 1\n",
    "    if (n == 1):\n",
    "        print(first_num)\n",
    "    else:\n",
    "        print(first_num)\n",
    "        print(second_num)\n",
    "        for i in range(2, n):\n",
    "            third_num = first_num + second_num\n",
    "            first_num = second_num\n",
    "            second_num = third_num\n",
    "            print(third_num)\n",
    "\n",
    "# Press the green button in the gutter to run the script.\n",
    "if __name__ == '__main__':\n",
    "    fib(9)"
   ]
  }
 ],
 "metadata": {
  "kernelspec": {
   "display_name": "Python 3 (ipykernel)",
   "language": "python",
   "name": "python3"
  },
  "language_info": {
   "codemirror_mode": {
    "name": "ipython",
    "version": 3
   },
   "file_extension": ".py",
   "mimetype": "text/x-python",
   "name": "python",
   "nbconvert_exporter": "python",
   "pygments_lexer": "ipython3",
   "version": "3.9.7"
  }
 },
 "nbformat": 4,
 "nbformat_minor": 5
}
